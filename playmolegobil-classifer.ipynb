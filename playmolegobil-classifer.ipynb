{
  "nbformat": 4,
  "nbformat_minor": 0,
  "metadata": {
    "colab": {
      "provenance": [],
      "authorship_tag": "ABX9TyO4Pms0AIeHS/hkNE3JkQSC",
      "include_colab_link": true
    },
    "kernelspec": {
      "name": "python3",
      "display_name": "Python 3"
    },
    "language_info": {
      "name": "python"
    },
    "widgets": {
      "application/vnd.jupyter.widget-state+json": {
        "97a3842d063c4d138dcb3fa18830eb8a": {
          "model_module": "@jupyter-widgets/controls",
          "model_name": "VBoxModel",
          "model_module_version": "1.5.0",
          "state": {
            "_dom_classes": [],
            "_model_module": "@jupyter-widgets/controls",
            "_model_module_version": "1.5.0",
            "_model_name": "VBoxModel",
            "_view_count": null,
            "_view_module": "@jupyter-widgets/controls",
            "_view_module_version": "1.5.0",
            "_view_name": "VBoxView",
            "box_style": "",
            "children": [
              "IPY_MODEL_6d52f3a53f2e4f3a8b9ad0b109ac9c2c",
              "IPY_MODEL_02c223f97ef24301b9eb1ad5423d8865",
              "IPY_MODEL_66e5db869690414c963c560fefbf749b",
              "IPY_MODEL_58a392646d1448d6af878943aec275ac"
            ],
            "layout": "IPY_MODEL_ee3fd8dda9584175ad573c54d9333175"
          }
        },
        "6d52f3a53f2e4f3a8b9ad0b109ac9c2c": {
          "model_module": "@jupyter-widgets/controls",
          "model_name": "LabelModel",
          "model_module_version": "1.5.0",
          "state": {
            "_dom_classes": [],
            "_model_module": "@jupyter-widgets/controls",
            "_model_module_version": "1.5.0",
            "_model_name": "LabelModel",
            "_view_count": null,
            "_view_module": "@jupyter-widgets/controls",
            "_view_module_version": "1.5.0",
            "_view_name": "LabelView",
            "description": "",
            "description_tooltip": null,
            "layout": "IPY_MODEL_9a09f9e4df5d4107b90ae158317290f4",
            "placeholder": "​",
            "style": "IPY_MODEL_f66f579f63ff418087aca8fe18643db9",
            "value": "Play mo lego bil?"
          }
        },
        "02c223f97ef24301b9eb1ad5423d8865": {
          "model_module": "@jupyter-widgets/controls",
          "model_name": "FileUploadModel",
          "model_module_version": "1.5.0",
          "state": {
            "_counter": 1,
            "_dom_classes": [],
            "_model_module": "@jupyter-widgets/controls",
            "_model_module_version": "1.5.0",
            "_model_name": "FileUploadModel",
            "_view_count": null,
            "_view_module": "@jupyter-widgets/controls",
            "_view_module_version": "1.5.0",
            "_view_name": "FileUploadView",
            "accept": "",
            "button_style": "",
            "data": [
              null
            ],
            "description": "Upload",
            "description_tooltip": null,
            "disabled": false,
            "error": "",
            "icon": "upload",
            "layout": "IPY_MODEL_73acd03cfab64e66b64cc04455b36b8d",
            "metadata": [
              {
                "name": "Lego 1.jfif",
                "type": "image/jpeg",
                "size": 4863,
                "lastModified": 1704479939973
              }
            ],
            "multiple": false,
            "style": "IPY_MODEL_20a24e81279245199d111160083aad08"
          }
        },
        "66e5db869690414c963c560fefbf749b": {
          "model_module": "@jupyter-widgets/output",
          "model_name": "OutputModel",
          "model_module_version": "1.0.0",
          "state": {
            "_dom_classes": [],
            "_model_module": "@jupyter-widgets/output",
            "_model_module_version": "1.0.0",
            "_model_name": "OutputModel",
            "_view_count": null,
            "_view_module": "@jupyter-widgets/output",
            "_view_module_version": "1.0.0",
            "_view_name": "OutputView",
            "layout": "IPY_MODEL_ce31c9ca9f7442cdb6f3b43a317522f0",
            "msg_id": "",
            "outputs": [
              {
                "output_type": "display_data",
                "data": {
                  "text/plain": "<PIL.Image.Image image mode=RGB size=123x128>",
                  "image/png": "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\n"
                },
                "metadata": {}
              }
            ]
          }
        },
        "58a392646d1448d6af878943aec275ac": {
          "model_module": "@jupyter-widgets/controls",
          "model_name": "LabelModel",
          "model_module_version": "1.5.0",
          "state": {
            "_dom_classes": [],
            "_model_module": "@jupyter-widgets/controls",
            "_model_module_version": "1.5.0",
            "_model_name": "LabelModel",
            "_view_count": null,
            "_view_module": "@jupyter-widgets/controls",
            "_view_module_version": "1.5.0",
            "_view_name": "LabelView",
            "description": "",
            "description_tooltip": null,
            "layout": "IPY_MODEL_52fea72dd55b4e16a0c63233210e53f5",
            "placeholder": "​",
            "style": "IPY_MODEL_181ba9a35dfe45c28eb6307f1e1f1c2e",
            "value": "Prediction: Lego city Einzelfigur; Probability: 0.9963"
          }
        },
        "ee3fd8dda9584175ad573c54d9333175": {
          "model_module": "@jupyter-widgets/base",
          "model_name": "LayoutModel",
          "model_module_version": "1.2.0",
          "state": {
            "_model_module": "@jupyter-widgets/base",
            "_model_module_version": "1.2.0",
            "_model_name": "LayoutModel",
            "_view_count": null,
            "_view_module": "@jupyter-widgets/base",
            "_view_module_version": "1.2.0",
            "_view_name": "LayoutView",
            "align_content": null,
            "align_items": null,
            "align_self": null,
            "border": null,
            "bottom": null,
            "display": null,
            "flex": null,
            "flex_flow": null,
            "grid_area": null,
            "grid_auto_columns": null,
            "grid_auto_flow": null,
            "grid_auto_rows": null,
            "grid_column": null,
            "grid_gap": null,
            "grid_row": null,
            "grid_template_areas": null,
            "grid_template_columns": null,
            "grid_template_rows": null,
            "height": null,
            "justify_content": null,
            "justify_items": null,
            "left": null,
            "margin": null,
            "max_height": null,
            "max_width": null,
            "min_height": null,
            "min_width": null,
            "object_fit": null,
            "object_position": null,
            "order": null,
            "overflow": null,
            "overflow_x": null,
            "overflow_y": null,
            "padding": null,
            "right": null,
            "top": null,
            "visibility": null,
            "width": null
          }
        },
        "9a09f9e4df5d4107b90ae158317290f4": {
          "model_module": "@jupyter-widgets/base",
          "model_name": "LayoutModel",
          "model_module_version": "1.2.0",
          "state": {
            "_model_module": "@jupyter-widgets/base",
            "_model_module_version": "1.2.0",
            "_model_name": "LayoutModel",
            "_view_count": null,
            "_view_module": "@jupyter-widgets/base",
            "_view_module_version": "1.2.0",
            "_view_name": "LayoutView",
            "align_content": null,
            "align_items": null,
            "align_self": null,
            "border": null,
            "bottom": null,
            "display": null,
            "flex": null,
            "flex_flow": null,
            "grid_area": null,
            "grid_auto_columns": null,
            "grid_auto_flow": null,
            "grid_auto_rows": null,
            "grid_column": null,
            "grid_gap": null,
            "grid_row": null,
            "grid_template_areas": null,
            "grid_template_columns": null,
            "grid_template_rows": null,
            "height": null,
            "justify_content": null,
            "justify_items": null,
            "left": null,
            "margin": null,
            "max_height": null,
            "max_width": null,
            "min_height": null,
            "min_width": null,
            "object_fit": null,
            "object_position": null,
            "order": null,
            "overflow": null,
            "overflow_x": null,
            "overflow_y": null,
            "padding": null,
            "right": null,
            "top": null,
            "visibility": null,
            "width": null
          }
        },
        "f66f579f63ff418087aca8fe18643db9": {
          "model_module": "@jupyter-widgets/controls",
          "model_name": "DescriptionStyleModel",
          "model_module_version": "1.5.0",
          "state": {
            "_model_module": "@jupyter-widgets/controls",
            "_model_module_version": "1.5.0",
            "_model_name": "DescriptionStyleModel",
            "_view_count": null,
            "_view_module": "@jupyter-widgets/base",
            "_view_module_version": "1.2.0",
            "_view_name": "StyleView",
            "description_width": ""
          }
        },
        "73acd03cfab64e66b64cc04455b36b8d": {
          "model_module": "@jupyter-widgets/base",
          "model_name": "LayoutModel",
          "model_module_version": "1.2.0",
          "state": {
            "_model_module": "@jupyter-widgets/base",
            "_model_module_version": "1.2.0",
            "_model_name": "LayoutModel",
            "_view_count": null,
            "_view_module": "@jupyter-widgets/base",
            "_view_module_version": "1.2.0",
            "_view_name": "LayoutView",
            "align_content": null,
            "align_items": null,
            "align_self": null,
            "border": null,
            "bottom": null,
            "display": null,
            "flex": null,
            "flex_flow": null,
            "grid_area": null,
            "grid_auto_columns": null,
            "grid_auto_flow": null,
            "grid_auto_rows": null,
            "grid_column": null,
            "grid_gap": null,
            "grid_row": null,
            "grid_template_areas": null,
            "grid_template_columns": null,
            "grid_template_rows": null,
            "height": null,
            "justify_content": null,
            "justify_items": null,
            "left": null,
            "margin": null,
            "max_height": null,
            "max_width": null,
            "min_height": null,
            "min_width": null,
            "object_fit": null,
            "object_position": null,
            "order": null,
            "overflow": null,
            "overflow_x": null,
            "overflow_y": null,
            "padding": null,
            "right": null,
            "top": null,
            "visibility": null,
            "width": null
          }
        },
        "20a24e81279245199d111160083aad08": {
          "model_module": "@jupyter-widgets/controls",
          "model_name": "ButtonStyleModel",
          "model_module_version": "1.5.0",
          "state": {
            "_model_module": "@jupyter-widgets/controls",
            "_model_module_version": "1.5.0",
            "_model_name": "ButtonStyleModel",
            "_view_count": null,
            "_view_module": "@jupyter-widgets/base",
            "_view_module_version": "1.2.0",
            "_view_name": "StyleView",
            "button_color": null,
            "font_weight": ""
          }
        },
        "52fea72dd55b4e16a0c63233210e53f5": {
          "model_module": "@jupyter-widgets/base",
          "model_name": "LayoutModel",
          "model_module_version": "1.2.0",
          "state": {
            "_model_module": "@jupyter-widgets/base",
            "_model_module_version": "1.2.0",
            "_model_name": "LayoutModel",
            "_view_count": null,
            "_view_module": "@jupyter-widgets/base",
            "_view_module_version": "1.2.0",
            "_view_name": "LayoutView",
            "align_content": null,
            "align_items": null,
            "align_self": null,
            "border": null,
            "bottom": null,
            "display": null,
            "flex": null,
            "flex_flow": null,
            "grid_area": null,
            "grid_auto_columns": null,
            "grid_auto_flow": null,
            "grid_auto_rows": null,
            "grid_column": null,
            "grid_gap": null,
            "grid_row": null,
            "grid_template_areas": null,
            "grid_template_columns": null,
            "grid_template_rows": null,
            "height": null,
            "justify_content": null,
            "justify_items": null,
            "left": null,
            "margin": null,
            "max_height": null,
            "max_width": null,
            "min_height": null,
            "min_width": null,
            "object_fit": null,
            "object_position": null,
            "order": null,
            "overflow": null,
            "overflow_x": null,
            "overflow_y": null,
            "padding": null,
            "right": null,
            "top": null,
            "visibility": null,
            "width": null
          }
        },
        "181ba9a35dfe45c28eb6307f1e1f1c2e": {
          "model_module": "@jupyter-widgets/controls",
          "model_name": "DescriptionStyleModel",
          "model_module_version": "1.5.0",
          "state": {
            "_model_module": "@jupyter-widgets/controls",
            "_model_module_version": "1.5.0",
            "_model_name": "DescriptionStyleModel",
            "_view_count": null,
            "_view_module": "@jupyter-widgets/base",
            "_view_module_version": "1.2.0",
            "_view_name": "StyleView",
            "description_width": ""
          }
        },
        "ce31c9ca9f7442cdb6f3b43a317522f0": {
          "model_module": "@jupyter-widgets/base",
          "model_name": "LayoutModel",
          "model_module_version": "1.2.0",
          "state": {
            "_model_module": "@jupyter-widgets/base",
            "_model_module_version": "1.2.0",
            "_model_name": "LayoutModel",
            "_view_count": null,
            "_view_module": "@jupyter-widgets/base",
            "_view_module_version": "1.2.0",
            "_view_name": "LayoutView",
            "align_content": null,
            "align_items": null,
            "align_self": null,
            "border": null,
            "bottom": null,
            "display": null,
            "flex": null,
            "flex_flow": null,
            "grid_area": null,
            "grid_auto_columns": null,
            "grid_auto_flow": null,
            "grid_auto_rows": null,
            "grid_column": null,
            "grid_gap": null,
            "grid_row": null,
            "grid_template_areas": null,
            "grid_template_columns": null,
            "grid_template_rows": null,
            "height": null,
            "justify_content": null,
            "justify_items": null,
            "left": null,
            "margin": null,
            "max_height": null,
            "max_width": null,
            "min_height": null,
            "min_width": null,
            "object_fit": null,
            "object_position": null,
            "order": null,
            "overflow": null,
            "overflow_x": null,
            "overflow_y": null,
            "padding": null,
            "right": null,
            "top": null,
            "visibility": null,
            "width": null
          }
        }
      }
    }
  },
  "cells": [
    {
      "cell_type": "markdown",
      "metadata": {
        "id": "view-in-github",
        "colab_type": "text"
      },
      "source": [
        "<a href=\"https://colab.research.google.com/gist/qxyz-zyxq/2f729f7c0007bdd30dc5845b67a34adb/playmolegobil-classifer.ipynb\" target=\"_parent\"><img src=\"https://colab.research.google.com/assets/colab-badge.svg\" alt=\"Open In Colab\"/></a>"
      ]
    },
    {
      "cell_type": "code",
      "execution_count": 1,
      "metadata": {
        "id": "uC3Tl20RAD5A"
      },
      "outputs": [],
      "source": [
        "from fastai.vision.all import *\n",
        "from fastai.vision.widgets import *"
      ]
    },
    {
      "cell_type": "code",
      "source": [
        "path = Path()\n",
        "path.ls(file_exts='.pkl')"
      ],
      "metadata": {
        "colab": {
          "base_uri": "https://localhost:8080/"
        },
        "id": "OhzpdE6FA09g",
        "outputId": "91054dc3-fb53-4a5e-8cdf-3bac51fecc3c"
      },
      "execution_count": 2,
      "outputs": [
        {
          "output_type": "execute_result",
          "data": {
            "text/plain": [
              "(#1) [Path('export.pkl')]"
            ]
          },
          "metadata": {},
          "execution_count": 2
        }
      ]
    },
    {
      "cell_type": "code",
      "source": [
        "path = Path()\n",
        "learn_inf = load_learner(path/'export.pkl', cpu=True)\n",
        "btn_upload = widgets.FileUpload()\n",
        "out_pl = widgets.Output()\n",
        "lbl_pred = widgets.Label()"
      ],
      "metadata": {
        "id": "5JOlKWX3Axra"
      },
      "execution_count": 3,
      "outputs": []
    },
    {
      "cell_type": "code",
      "source": [
        "def on_data_change(change):\n",
        "    lbl_pred.value = ''\n",
        "    img = PILImage.create(btn_upload.data[-1])\n",
        "    out_pl.clear_output()\n",
        "    with out_pl: display(img.to_thumb(128,128))\n",
        "    pred,pred_idx,probs = learn_inf.predict(img)\n",
        "    lbl_pred.value = f'Prediction: {pred}; Probability: {probs[pred_idx]:.04f}'"
      ],
      "metadata": {
        "id": "jWM643mFMmku"
      },
      "execution_count": 4,
      "outputs": []
    },
    {
      "cell_type": "code",
      "source": [
        "btn_upload.observe(on_data_change, names=['data'])"
      ],
      "metadata": {
        "id": "PtMF2tBmMsZV"
      },
      "execution_count": 5,
      "outputs": []
    },
    {
      "cell_type": "code",
      "source": [
        "display(VBox([widgets.Label('Play mo lego bil?'), btn_upload, out_pl, lbl_pred]))"
      ],
      "metadata": {
        "colab": {
          "base_uri": "https://localhost:8080/",
          "height": 276,
          "referenced_widgets": [
            "97a3842d063c4d138dcb3fa18830eb8a",
            "6d52f3a53f2e4f3a8b9ad0b109ac9c2c",
            "02c223f97ef24301b9eb1ad5423d8865",
            "66e5db869690414c963c560fefbf749b",
            "58a392646d1448d6af878943aec275ac",
            "ee3fd8dda9584175ad573c54d9333175",
            "9a09f9e4df5d4107b90ae158317290f4",
            "f66f579f63ff418087aca8fe18643db9",
            "73acd03cfab64e66b64cc04455b36b8d",
            "20a24e81279245199d111160083aad08",
            "52fea72dd55b4e16a0c63233210e53f5",
            "181ba9a35dfe45c28eb6307f1e1f1c2e",
            "ce31c9ca9f7442cdb6f3b43a317522f0"
          ]
        },
        "id": "cTLfRgFAMzfp",
        "outputId": "49d1f345-7733-4df2-ada1-f79ec8c08187"
      },
      "execution_count": 6,
      "outputs": [
        {
          "output_type": "display_data",
          "data": {
            "text/plain": [
              "VBox(children=(Label(value='Play mo lego bil?'), FileUpload(value={}, description='Upload'), Output(), Label(v…"
            ],
            "application/vnd.jupyter.widget-view+json": {
              "version_major": 2,
              "version_minor": 0,
              "model_id": "97a3842d063c4d138dcb3fa18830eb8a"
            }
          },
          "metadata": {}
        },
        {
          "output_type": "stream",
          "name": "stderr",
          "text": [
            "/usr/local/lib/python3.10/dist-packages/fastai/torch_core.py:263: UserWarning: 'has_mps' is deprecated, please use 'torch.backends.mps.is_built()'\n",
            "  return getattr(torch, 'has_mps', False)\n"
          ]
        },
        {
          "output_type": "display_data",
          "data": {
            "text/plain": [
              "<IPython.core.display.HTML object>"
            ],
            "text/html": [
              "\n",
              "<style>\n",
              "    /* Turns off some styling */\n",
              "    progress {\n",
              "        /* gets rid of default border in Firefox and Opera. */\n",
              "        border: none;\n",
              "        /* Needs to be in here for Safari polyfill so background images work as expected. */\n",
              "        background-size: auto;\n",
              "    }\n",
              "    progress:not([value]), progress:not([value])::-webkit-progress-bar {\n",
              "        background: repeating-linear-gradient(45deg, #7e7e7e, #7e7e7e 10px, #5c5c5c 10px, #5c5c5c 20px);\n",
              "    }\n",
              "    .progress-bar-interrupted, .progress-bar-interrupted::-webkit-progress-bar {\n",
              "        background: #F44336;\n",
              "    }\n",
              "</style>\n"
            ]
          },
          "metadata": {}
        },
        {
          "output_type": "display_data",
          "data": {
            "text/plain": [
              "<IPython.core.display.HTML object>"
            ],
            "text/html": []
          },
          "metadata": {}
        }
      ]
    }
  ]
}